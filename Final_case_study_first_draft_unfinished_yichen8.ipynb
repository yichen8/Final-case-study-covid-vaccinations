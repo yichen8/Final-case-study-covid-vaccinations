{
  "nbformat": 4,
  "nbformat_minor": 0,
  "metadata": {
    "colab": {
      "name": "Final-case-study-first-draft-unfinished_yichen8.ipynb",
      "provenance": [],
      "authorship_tag": "ABX9TyOePHJh0sVchb28eZU8emc4",
      "include_colab_link": true
    },
    "kernelspec": {
      "name": "python3",
      "display_name": "Python 3"
    },
    "language_info": {
      "name": "python"
    }
  },
  "cells": [
    {
      "cell_type": "markdown",
      "metadata": {
        "id": "view-in-github",
        "colab_type": "text"
      },
      "source": [
        "<a href=\"https://colab.research.google.com/github/yichen8/Final-case-study-covid-vaccinations/blob/main/Final_case_study_first_draft_unfinished_yichen8.ipynb\" target=\"_parent\"><img src=\"https://colab.research.google.com/assets/colab-badge.svg\" alt=\"Open In Colab\"/></a>"
      ]
    },
    {
      "cell_type": "markdown",
      "metadata": {
        "id": "6oer8ZLdTQp6"
      },
      "source": [
        "# COVID-19 World Vaccinations Progress\n",
        "(Dataset obtained from https://www.kaggle.com/gpreda/covid-world-vaccination-progress?select=country_vaccinations.csv)"
      ]
    },
    {
      "cell_type": "code",
      "metadata": {
        "id": "_notWhrxCqZl"
      },
      "source": [
        "#Import Python Packages\n",
        "import pandas as pd\n",
        "import numpy as np\n",
        "import plotly\n",
        "import plotly.express as px\n",
        "import plotly.graph_objects as go"
      ],
      "execution_count": 1,
      "outputs": []
    },
    {
      "cell_type": "code",
      "metadata": {
        "id": "7CuS7MlsCfGG"
      },
      "source": [
        "#Read the dataset\n",
        "df = pd.read_csv('https://github.com/yichen8/Final-case-study-covid-vaccinations/blob/main/country_vaccinations.csv?raw=true')"
      ],
      "execution_count": 2,
      "outputs": []
    },
    {
      "cell_type": "markdown",
      "metadata": {
        "id": "IY5lKZNnQiXD"
      },
      "source": [
        "# Inspecting the Dataset"
      ]
    },
    {
      "cell_type": "code",
      "metadata": {
        "colab": {
          "base_uri": "https://localhost:8080/"
        },
        "id": "sIxB7v1EDlSN",
        "outputId": "7e576051-406b-433a-d029-d15dfeaf4e03"
      },
      "source": [
        "#Display the number of rows and columns\n",
        "num_rows = df.shape[0]\n",
        "num_cols = df.shape[1]\n",
        "\n",
        "print(f'There are {num_rows} rows and {num_cols} columns in the dataset.')"
      ],
      "execution_count": 3,
      "outputs": [
        {
          "output_type": "stream",
          "text": [
            "There are 15505 rows and 15 columns in the dataset.\n"
          ],
          "name": "stdout"
        }
      ]
    },
    {
      "cell_type": "code",
      "metadata": {
        "colab": {
          "base_uri": "https://localhost:8080/"
        },
        "id": "VwC3EYUED9UD",
        "outputId": "596b31fa-87b4-4cbb-8972-b1f7ce17f6ac"
      },
      "source": [
        "#Check the data types of each column and number of non-missing rows\n",
        "df.info()"
      ],
      "execution_count": 4,
      "outputs": [
        {
          "output_type": "stream",
          "text": [
            "<class 'pandas.core.frame.DataFrame'>\n",
            "RangeIndex: 15505 entries, 0 to 15504\n",
            "Data columns (total 15 columns):\n",
            " #   Column                               Non-Null Count  Dtype  \n",
            "---  ------                               --------------  -----  \n",
            " 0   country                              15505 non-null  object \n",
            " 1   iso_code                             15505 non-null  object \n",
            " 2   date                                 15505 non-null  object \n",
            " 3   total_vaccinations                   9325 non-null   float64\n",
            " 4   people_vaccinated                    8649 non-null   float64\n",
            " 5   people_fully_vaccinated              6425 non-null   float64\n",
            " 6   daily_vaccinations_raw               7830 non-null   float64\n",
            " 7   daily_vaccinations                   15307 non-null  float64\n",
            " 8   total_vaccinations_per_hundred       9325 non-null   float64\n",
            " 9   people_vaccinated_per_hundred        8649 non-null   float64\n",
            " 10  people_fully_vaccinated_per_hundred  6425 non-null   float64\n",
            " 11  daily_vaccinations_per_million       15307 non-null  float64\n",
            " 12  vaccines                             15505 non-null  object \n",
            " 13  source_name                          15505 non-null  object \n",
            " 14  source_website                       15505 non-null  object \n",
            "dtypes: float64(9), object(6)\n",
            "memory usage: 1.8+ MB\n"
          ],
          "name": "stdout"
        }
      ]
    },
    {
      "cell_type": "code",
      "metadata": {
        "colab": {
          "base_uri": "https://localhost:8080/",
          "height": 317
        },
        "id": "z8P-IfcjELwc",
        "outputId": "745ff7e6-3cf2-4746-aeb2-8ed94fef2ae1"
      },
      "source": [
        "df.describe()"
      ],
      "execution_count": 5,
      "outputs": [
        {
          "output_type": "execute_result",
          "data": {
            "text/html": [
              "<div>\n",
              "<style scoped>\n",
              "    .dataframe tbody tr th:only-of-type {\n",
              "        vertical-align: middle;\n",
              "    }\n",
              "\n",
              "    .dataframe tbody tr th {\n",
              "        vertical-align: top;\n",
              "    }\n",
              "\n",
              "    .dataframe thead th {\n",
              "        text-align: right;\n",
              "    }\n",
              "</style>\n",
              "<table border=\"1\" class=\"dataframe\">\n",
              "  <thead>\n",
              "    <tr style=\"text-align: right;\">\n",
              "      <th></th>\n",
              "      <th>total_vaccinations</th>\n",
              "      <th>people_vaccinated</th>\n",
              "      <th>people_fully_vaccinated</th>\n",
              "      <th>daily_vaccinations_raw</th>\n",
              "      <th>daily_vaccinations</th>\n",
              "      <th>total_vaccinations_per_hundred</th>\n",
              "      <th>people_vaccinated_per_hundred</th>\n",
              "      <th>people_fully_vaccinated_per_hundred</th>\n",
              "      <th>daily_vaccinations_per_million</th>\n",
              "    </tr>\n",
              "  </thead>\n",
              "  <tbody>\n",
              "    <tr>\n",
              "      <th>count</th>\n",
              "      <td>9.325000e+03</td>\n",
              "      <td>8.649000e+03</td>\n",
              "      <td>6.425000e+03</td>\n",
              "      <td>7.830000e+03</td>\n",
              "      <td>1.530700e+04</td>\n",
              "      <td>9325.000000</td>\n",
              "      <td>8649.000000</td>\n",
              "      <td>6425.000000</td>\n",
              "      <td>15307.000000</td>\n",
              "    </tr>\n",
              "    <tr>\n",
              "      <th>mean</th>\n",
              "      <td>5.180765e+06</td>\n",
              "      <td>3.271412e+06</td>\n",
              "      <td>1.645949e+06</td>\n",
              "      <td>1.359830e+05</td>\n",
              "      <td>7.910911e+04</td>\n",
              "      <td>15.928546</td>\n",
              "      <td>11.555663</td>\n",
              "      <td>5.836851</td>\n",
              "      <td>2997.132292</td>\n",
              "    </tr>\n",
              "    <tr>\n",
              "      <th>std</th>\n",
              "      <td>2.131066e+07</td>\n",
              "      <td>1.221271e+07</td>\n",
              "      <td>7.123496e+06</td>\n",
              "      <td>5.231930e+05</td>\n",
              "      <td>3.616686e+05</td>\n",
              "      <td>23.530195</td>\n",
              "      <td>15.459619</td>\n",
              "      <td>10.116900</td>\n",
              "      <td>4693.081687</td>\n",
              "    </tr>\n",
              "    <tr>\n",
              "      <th>min</th>\n",
              "      <td>0.000000e+00</td>\n",
              "      <td>0.000000e+00</td>\n",
              "      <td>1.000000e+00</td>\n",
              "      <td>0.000000e+00</td>\n",
              "      <td>0.000000e+00</td>\n",
              "      <td>0.000000</td>\n",
              "      <td>0.000000</td>\n",
              "      <td>0.000000</td>\n",
              "      <td>0.000000</td>\n",
              "    </tr>\n",
              "    <tr>\n",
              "      <th>25%</th>\n",
              "      <td>6.208300e+04</td>\n",
              "      <td>5.349000e+04</td>\n",
              "      <td>2.410700e+04</td>\n",
              "      <td>3.020500e+03</td>\n",
              "      <td>9.175000e+02</td>\n",
              "      <td>1.390000</td>\n",
              "      <td>1.300000</td>\n",
              "      <td>0.650000</td>\n",
              "      <td>358.000000</td>\n",
              "    </tr>\n",
              "    <tr>\n",
              "      <th>50%</th>\n",
              "      <td>4.419760e+05</td>\n",
              "      <td>3.380570e+05</td>\n",
              "      <td>1.792920e+05</td>\n",
              "      <td>1.603550e+04</td>\n",
              "      <td>6.506000e+03</td>\n",
              "      <td>6.590000</td>\n",
              "      <td>5.080000</td>\n",
              "      <td>2.460000</td>\n",
              "      <td>1501.000000</td>\n",
              "    </tr>\n",
              "    <tr>\n",
              "      <th>75%</th>\n",
              "      <td>1.988844e+06</td>\n",
              "      <td>1.380430e+06</td>\n",
              "      <td>7.142100e+05</td>\n",
              "      <td>6.341400e+04</td>\n",
              "      <td>2.987550e+04</td>\n",
              "      <td>20.610000</td>\n",
              "      <td>15.340000</td>\n",
              "      <td>6.630000</td>\n",
              "      <td>4008.500000</td>\n",
              "    </tr>\n",
              "    <tr>\n",
              "      <th>max</th>\n",
              "      <td>2.896270e+08</td>\n",
              "      <td>1.485629e+08</td>\n",
              "      <td>1.073465e+08</td>\n",
              "      <td>1.160100e+07</td>\n",
              "      <td>7.205286e+06</td>\n",
              "      <td>211.080000</td>\n",
              "      <td>111.320000</td>\n",
              "      <td>99.760000</td>\n",
              "      <td>118759.000000</td>\n",
              "    </tr>\n",
              "  </tbody>\n",
              "</table>\n",
              "</div>"
            ],
            "text/plain": [
              "       total_vaccinations  ...  daily_vaccinations_per_million\n",
              "count        9.325000e+03  ...                    15307.000000\n",
              "mean         5.180765e+06  ...                     2997.132292\n",
              "std          2.131066e+07  ...                     4693.081687\n",
              "min          0.000000e+00  ...                        0.000000\n",
              "25%          6.208300e+04  ...                      358.000000\n",
              "50%          4.419760e+05  ...                     1501.000000\n",
              "75%          1.988844e+06  ...                     4008.500000\n",
              "max          2.896270e+08  ...                   118759.000000\n",
              "\n",
              "[8 rows x 9 columns]"
            ]
          },
          "metadata": {
            "tags": []
          },
          "execution_count": 5
        }
      ]
    },
    {
      "cell_type": "code",
      "metadata": {
        "colab": {
          "base_uri": "https://localhost:8080/",
          "height": 309
        },
        "id": "U1LorJGwPKwS",
        "outputId": "1b5834cc-6c34-49d8-fea0-9cd5ac3625f5"
      },
      "source": [
        "df.head()"
      ],
      "execution_count": 6,
      "outputs": [
        {
          "output_type": "execute_result",
          "data": {
            "text/html": [
              "<div>\n",
              "<style scoped>\n",
              "    .dataframe tbody tr th:only-of-type {\n",
              "        vertical-align: middle;\n",
              "    }\n",
              "\n",
              "    .dataframe tbody tr th {\n",
              "        vertical-align: top;\n",
              "    }\n",
              "\n",
              "    .dataframe thead th {\n",
              "        text-align: right;\n",
              "    }\n",
              "</style>\n",
              "<table border=\"1\" class=\"dataframe\">\n",
              "  <thead>\n",
              "    <tr style=\"text-align: right;\">\n",
              "      <th></th>\n",
              "      <th>country</th>\n",
              "      <th>iso_code</th>\n",
              "      <th>date</th>\n",
              "      <th>total_vaccinations</th>\n",
              "      <th>people_vaccinated</th>\n",
              "      <th>people_fully_vaccinated</th>\n",
              "      <th>daily_vaccinations_raw</th>\n",
              "      <th>daily_vaccinations</th>\n",
              "      <th>total_vaccinations_per_hundred</th>\n",
              "      <th>people_vaccinated_per_hundred</th>\n",
              "      <th>people_fully_vaccinated_per_hundred</th>\n",
              "      <th>daily_vaccinations_per_million</th>\n",
              "      <th>vaccines</th>\n",
              "      <th>source_name</th>\n",
              "      <th>source_website</th>\n",
              "    </tr>\n",
              "  </thead>\n",
              "  <tbody>\n",
              "    <tr>\n",
              "      <th>0</th>\n",
              "      <td>Afghanistan</td>\n",
              "      <td>AFG</td>\n",
              "      <td>2021-02-22</td>\n",
              "      <td>0.0</td>\n",
              "      <td>0.0</td>\n",
              "      <td>NaN</td>\n",
              "      <td>NaN</td>\n",
              "      <td>NaN</td>\n",
              "      <td>0.0</td>\n",
              "      <td>0.0</td>\n",
              "      <td>NaN</td>\n",
              "      <td>NaN</td>\n",
              "      <td>Oxford/AstraZeneca</td>\n",
              "      <td>Government of Afghanistan</td>\n",
              "      <td>https://reliefweb.int/report/afghanistan/afgha...</td>\n",
              "    </tr>\n",
              "    <tr>\n",
              "      <th>1</th>\n",
              "      <td>Afghanistan</td>\n",
              "      <td>AFG</td>\n",
              "      <td>2021-02-23</td>\n",
              "      <td>NaN</td>\n",
              "      <td>NaN</td>\n",
              "      <td>NaN</td>\n",
              "      <td>NaN</td>\n",
              "      <td>1367.0</td>\n",
              "      <td>NaN</td>\n",
              "      <td>NaN</td>\n",
              "      <td>NaN</td>\n",
              "      <td>35.0</td>\n",
              "      <td>Oxford/AstraZeneca</td>\n",
              "      <td>Government of Afghanistan</td>\n",
              "      <td>https://reliefweb.int/report/afghanistan/afgha...</td>\n",
              "    </tr>\n",
              "    <tr>\n",
              "      <th>2</th>\n",
              "      <td>Afghanistan</td>\n",
              "      <td>AFG</td>\n",
              "      <td>2021-02-24</td>\n",
              "      <td>NaN</td>\n",
              "      <td>NaN</td>\n",
              "      <td>NaN</td>\n",
              "      <td>NaN</td>\n",
              "      <td>1367.0</td>\n",
              "      <td>NaN</td>\n",
              "      <td>NaN</td>\n",
              "      <td>NaN</td>\n",
              "      <td>35.0</td>\n",
              "      <td>Oxford/AstraZeneca</td>\n",
              "      <td>Government of Afghanistan</td>\n",
              "      <td>https://reliefweb.int/report/afghanistan/afgha...</td>\n",
              "    </tr>\n",
              "    <tr>\n",
              "      <th>3</th>\n",
              "      <td>Afghanistan</td>\n",
              "      <td>AFG</td>\n",
              "      <td>2021-02-25</td>\n",
              "      <td>NaN</td>\n",
              "      <td>NaN</td>\n",
              "      <td>NaN</td>\n",
              "      <td>NaN</td>\n",
              "      <td>1367.0</td>\n",
              "      <td>NaN</td>\n",
              "      <td>NaN</td>\n",
              "      <td>NaN</td>\n",
              "      <td>35.0</td>\n",
              "      <td>Oxford/AstraZeneca</td>\n",
              "      <td>Government of Afghanistan</td>\n",
              "      <td>https://reliefweb.int/report/afghanistan/afgha...</td>\n",
              "    </tr>\n",
              "    <tr>\n",
              "      <th>4</th>\n",
              "      <td>Afghanistan</td>\n",
              "      <td>AFG</td>\n",
              "      <td>2021-02-26</td>\n",
              "      <td>NaN</td>\n",
              "      <td>NaN</td>\n",
              "      <td>NaN</td>\n",
              "      <td>NaN</td>\n",
              "      <td>1367.0</td>\n",
              "      <td>NaN</td>\n",
              "      <td>NaN</td>\n",
              "      <td>NaN</td>\n",
              "      <td>35.0</td>\n",
              "      <td>Oxford/AstraZeneca</td>\n",
              "      <td>Government of Afghanistan</td>\n",
              "      <td>https://reliefweb.int/report/afghanistan/afgha...</td>\n",
              "    </tr>\n",
              "  </tbody>\n",
              "</table>\n",
              "</div>"
            ],
            "text/plain": [
              "       country  ...                                     source_website\n",
              "0  Afghanistan  ...  https://reliefweb.int/report/afghanistan/afgha...\n",
              "1  Afghanistan  ...  https://reliefweb.int/report/afghanistan/afgha...\n",
              "2  Afghanistan  ...  https://reliefweb.int/report/afghanistan/afgha...\n",
              "3  Afghanistan  ...  https://reliefweb.int/report/afghanistan/afgha...\n",
              "4  Afghanistan  ...  https://reliefweb.int/report/afghanistan/afgha...\n",
              "\n",
              "[5 rows x 15 columns]"
            ]
          },
          "metadata": {
            "tags": []
          },
          "execution_count": 6
        }
      ]
    },
    {
      "cell_type": "markdown",
      "metadata": {
        "id": "z40qC_LWSRhc"
      },
      "source": [
        "# Perform EDA"
      ]
    },
    {
      "cell_type": "code",
      "metadata": {
        "colab": {
          "base_uri": "https://localhost:8080/",
          "height": 467
        },
        "id": "porLwe5jR3rv",
        "outputId": "a3ac4ed1-f978-45b3-900a-e4d89b146c31"
      },
      "source": [
        "# YOUR CODE BEGINS\n",
        "df_by_country = df.groupby('country').agg({'total_vaccinations': 'sum'})\n",
        "\n",
        "display(df_by_country)\n",
        "print(df_by_country.columns)"
      ],
      "execution_count": 7,
      "outputs": [
        {
          "output_type": "display_data",
          "data": {
            "text/html": [
              "<div>\n",
              "<style scoped>\n",
              "    .dataframe tbody tr th:only-of-type {\n",
              "        vertical-align: middle;\n",
              "    }\n",
              "\n",
              "    .dataframe tbody tr th {\n",
              "        vertical-align: top;\n",
              "    }\n",
              "\n",
              "    .dataframe thead th {\n",
              "        text-align: right;\n",
              "    }\n",
              "</style>\n",
              "<table border=\"1\" class=\"dataframe\">\n",
              "  <thead>\n",
              "    <tr style=\"text-align: right;\">\n",
              "      <th></th>\n",
              "      <th>total_vaccinations</th>\n",
              "    </tr>\n",
              "    <tr>\n",
              "      <th>country</th>\n",
              "      <th></th>\n",
              "    </tr>\n",
              "  </thead>\n",
              "  <tbody>\n",
              "    <tr>\n",
              "      <th>Afghanistan</th>\n",
              "      <td>422200.0</td>\n",
              "    </tr>\n",
              "    <tr>\n",
              "      <th>Albania</th>\n",
              "      <td>11295390.0</td>\n",
              "    </tr>\n",
              "    <tr>\n",
              "      <th>Algeria</th>\n",
              "      <td>75030.0</td>\n",
              "    </tr>\n",
              "    <tr>\n",
              "      <th>Andorra</th>\n",
              "      <td>185420.0</td>\n",
              "    </tr>\n",
              "    <tr>\n",
              "      <th>Angola</th>\n",
              "      <td>1551757.0</td>\n",
              "    </tr>\n",
              "    <tr>\n",
              "      <th>...</th>\n",
              "      <td>...</td>\n",
              "    </tr>\n",
              "    <tr>\n",
              "      <th>Venezuela</th>\n",
              "      <td>374574.0</td>\n",
              "    </tr>\n",
              "    <tr>\n",
              "      <th>Vietnam</th>\n",
              "      <td>4815258.0</td>\n",
              "    </tr>\n",
              "    <tr>\n",
              "      <th>Wales</th>\n",
              "      <td>146605289.0</td>\n",
              "    </tr>\n",
              "    <tr>\n",
              "      <th>Zambia</th>\n",
              "      <td>322674.0</td>\n",
              "    </tr>\n",
              "    <tr>\n",
              "      <th>Zimbabwe</th>\n",
              "      <td>12162705.0</td>\n",
              "    </tr>\n",
              "  </tbody>\n",
              "</table>\n",
              "<p>195 rows × 1 columns</p>\n",
              "</div>"
            ],
            "text/plain": [
              "             total_vaccinations\n",
              "country                        \n",
              "Afghanistan            422200.0\n",
              "Albania              11295390.0\n",
              "Algeria                 75030.0\n",
              "Andorra                185420.0\n",
              "Angola                1551757.0\n",
              "...                         ...\n",
              "Venezuela              374574.0\n",
              "Vietnam               4815258.0\n",
              "Wales               146605289.0\n",
              "Zambia                 322674.0\n",
              "Zimbabwe             12162705.0\n",
              "\n",
              "[195 rows x 1 columns]"
            ]
          },
          "metadata": {
            "tags": []
          }
        },
        {
          "output_type": "stream",
          "text": [
            "Index(['total_vaccinations'], dtype='object')\n"
          ],
          "name": "stdout"
        }
      ]
    },
    {
      "cell_type": "code",
      "metadata": {
        "colab": {
          "base_uri": "https://localhost:8080/",
          "height": 328
        },
        "id": "WgL-M1kBSMQ7",
        "outputId": "652497f8-1406-4c69-e8b8-69255d6f06f5"
      },
      "source": [
        "#Filter countries with over 1 Billion Total Vaccinations\n",
        "df_over_1B = df_by_country[df_by_country['total_vaccinations'] >= 1000000000]\n",
        "df_over_1B"
      ],
      "execution_count": 8,
      "outputs": [
        {
          "output_type": "execute_result",
          "data": {
            "text/html": [
              "<div>\n",
              "<style scoped>\n",
              "    .dataframe tbody tr th:only-of-type {\n",
              "        vertical-align: middle;\n",
              "    }\n",
              "\n",
              "    .dataframe tbody tr th {\n",
              "        vertical-align: top;\n",
              "    }\n",
              "\n",
              "    .dataframe thead th {\n",
              "        text-align: right;\n",
              "    }\n",
              "</style>\n",
              "<table border=\"1\" class=\"dataframe\">\n",
              "  <thead>\n",
              "    <tr style=\"text-align: right;\">\n",
              "      <th></th>\n",
              "      <th>total_vaccinations</th>\n",
              "    </tr>\n",
              "    <tr>\n",
              "      <th>country</th>\n",
              "      <th></th>\n",
              "    </tr>\n",
              "  </thead>\n",
              "  <tbody>\n",
              "    <tr>\n",
              "      <th>Brazil</th>\n",
              "      <td>1.543410e+09</td>\n",
              "    </tr>\n",
              "    <tr>\n",
              "      <th>China</th>\n",
              "      <td>8.344417e+09</td>\n",
              "    </tr>\n",
              "    <tr>\n",
              "      <th>England</th>\n",
              "      <td>2.441464e+09</td>\n",
              "    </tr>\n",
              "    <tr>\n",
              "      <th>Germany</th>\n",
              "      <td>1.263981e+09</td>\n",
              "    </tr>\n",
              "    <tr>\n",
              "      <th>India</th>\n",
              "      <td>5.251824e+09</td>\n",
              "    </tr>\n",
              "    <tr>\n",
              "      <th>Turkey</th>\n",
              "      <td>1.211611e+09</td>\n",
              "    </tr>\n",
              "    <tr>\n",
              "      <th>United Kingdom</th>\n",
              "      <td>2.899535e+09</td>\n",
              "    </tr>\n",
              "    <tr>\n",
              "      <th>United States</th>\n",
              "      <td>1.248309e+10</td>\n",
              "    </tr>\n",
              "  </tbody>\n",
              "</table>\n",
              "</div>"
            ],
            "text/plain": [
              "                total_vaccinations\n",
              "country                           \n",
              "Brazil                1.543410e+09\n",
              "China                 8.344417e+09\n",
              "England               2.441464e+09\n",
              "Germany               1.263981e+09\n",
              "India                 5.251824e+09\n",
              "Turkey                1.211611e+09\n",
              "United Kingdom        2.899535e+09\n",
              "United States         1.248309e+10"
            ]
          },
          "metadata": {
            "tags": []
          },
          "execution_count": 8
        }
      ]
    },
    {
      "cell_type": "markdown",
      "metadata": {
        "id": "Tbo_W5vrUEWS"
      },
      "source": [
        "# *To be Continued...*"
      ]
    },
    {
      "cell_type": "markdown",
      "metadata": {
        "id": "tSBqjP4tTvHb"
      },
      "source": [
        "# Python Visualizations"
      ]
    },
    {
      "cell_type": "code",
      "metadata": {
        "id": "bz5MvOnITy1c"
      },
      "source": [
        "#Daily Vaccinations Change in China"
      ],
      "execution_count": 9,
      "outputs": []
    },
    {
      "cell_type": "markdown",
      "metadata": {
        "id": "9arOK4CsVXWx"
      },
      "source": [
        "# *To be Continued...*"
      ]
    }
  ]
}